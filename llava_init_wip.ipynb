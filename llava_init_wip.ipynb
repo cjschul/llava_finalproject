{
 "cells": [
  {
   "cell_type": "code",
   "execution_count": 1,
   "metadata": {},
   "outputs": [],
   "source": [
    "from transformers import AutoConfig\n",
    "import numpy as np\n",
    "import torch\n",
    "from torch.utils.data import DataLoader, Subset\n",
    "from vicuna_llava import vicuna_llava, dataset_llava\n",
    "from accelerate import Accelerator\n",
    "accelerator = Accelerator()"
   ]
  },
  {
   "cell_type": "markdown",
   "metadata": {},
   "source": [
    "Log in to huggingface (using llama requires you to request access on huggingface)"
   ]
  },
  {
   "cell_type": "code",
   "execution_count": 2,
   "metadata": {},
   "outputs": [
    {
     "data": {
      "application/vnd.jupyter.widget-view+json": {
       "model_id": "5bf1b8179a5b42ebab0e5b15b71ceebe",
       "version_major": 2,
       "version_minor": 0
      },
      "text/plain": [
       "VBox(children=(HTML(value='<center> <img\\nsrc=https://huggingface.co/front/assets/huggingface_logo-noborder.sv…"
      ]
     },
     "metadata": {},
     "output_type": "display_data"
    }
   ],
   "source": [
    "\n",
    "from huggingface_hub import login\n",
    "login()"
   ]
  },
  {
   "cell_type": "markdown",
   "metadata": {},
   "source": [
    "### Instantiate vicunallava"
   ]
  },
  {
   "cell_type": "code",
   "execution_count": 3,
   "metadata": {},
   "outputs": [],
   "source": [
    "device = torch.device(\"cuda\" if torch.cuda.is_available() else \"cpu\")\n",
    "\n",
    "# grab vicuna and its tokenizer\n",
    "model_name = \"meta-llama/Llama-3.2-1B\"#\"lmsys/vicuna-7b-v1.5\"\n",
    "config = AutoConfig.from_pretrained(model_name)\n",
    "\n",
    "vicunallava = accelerator.prepare(vicuna_llava(config, llmURL=model_name, accelerator=accelerator))\n"
   ]
  },
  {
   "cell_type": "markdown",
   "metadata": {},
   "source": [
    "Grab pretrained projector"
   ]
  },
  {
   "cell_type": "code",
   "execution_count": 4,
   "metadata": {},
   "outputs": [
    {
     "name": "stderr",
     "output_type": "stream",
     "text": [
      "C:\\Users\\colli\\AppData\\Local\\Temp\\ipykernel_23384\\181095193.py:1: FutureWarning: You are using `torch.load` with `weights_only=False` (the current default value), which uses the default pickle module implicitly. It is possible to construct malicious pickle data which will execute arbitrary code during unpickling (See https://github.com/pytorch/pytorch/blob/main/SECURITY.md#untrusted-models for more details). In a future release, the default value for `weights_only` will be flipped to `True`. This limits the functions that could be executed during unpickling. Arbitrary objects will no longer be allowed to be loaded via this mode unless they are explicitly allowlisted by the user via `torch.serialization.add_safe_globals`. We recommend you start setting `weights_only=True` for any use case where you don't have full control of the loaded file. Please open an issue on GitHub for any issues related to this experimental feature.\n",
      "  linear_llava_proj = torch.load('Pretrained/vicunallava_im_embedding_stage1.pt')\n"
     ]
    }
   ],
   "source": [
    "linear_llava_proj = torch.load('Pretrained/vicunallava_im_embedding_stage1.pt')\n",
    "\n",
    "with torch.no_grad():\n",
    "    vicunallava.im_embedding.weight.copy_(linear_llava_proj.weight)\n",
    "    vicunallava.im_embedding.bias.copy_(linear_llava_proj.bias)"
   ]
  },
  {
   "cell_type": "markdown",
   "metadata": {},
   "source": [
    "### Instantiate Dataset"
   ]
  },
  {
   "cell_type": "code",
   "execution_count": 5,
   "metadata": {},
   "outputs": [],
   "source": [
    "# directories pointing to images directory and chat.json, I've downloaded the dataset locally to deal with some of the missing images\n",
    "chat = 'CC3M/chat.json'\n",
    "im_dir = \"CC3M/images/\"\n",
    "\n",
    "num_samples=50\n",
    "subset_idcs = list(range(num_samples))\n",
    "\n",
    "cc3m_dataset = accelerator.prepare(Subset(dataset_llava(chat, im_dir), subset_idcs))\n",
    "batch_size=10\n",
    "cc3m_dataloader =  accelerator.prepare(DataLoader(cc3m_dataset, batch_size=batch_size))"
   ]
  },
  {
   "cell_type": "markdown",
   "metadata": {},
   "source": [
    "Test Generating on Some Sample from Dataset"
   ]
  },
  {
   "cell_type": "code",
   "execution_count": 6,
   "metadata": {},
   "outputs": [],
   "source": [
    "from PIL import Image\n",
    "from torchvision.transforms import ToPILImage, ToTensor\n",
    "ToPIL = ToPILImage()\n",
    "\n",
    "\n",
    "# grab image from dataset\n",
    "#testprompt, testimage, testresponse = cc3m_dataset[0]\n",
    "#testimage = testimage.to(device)\n",
    "\n",
    "\n",
    "# grab a loaded image\n",
    "#testprompt = \"Describe the image\"\n",
    "#image = Image.open(\"Forza Horizon 5 Monaro Profile Clean.jpg\")\n",
    "#testimage = ToTensor()(image)\n",
    "#testresponse = \"A car\"\n",
    "\n",
    "#output = vicunallava.generate(testimage, testprompt, max_new_tokens=15)\n",
    "#print(f'input prompt: {testprompt}')\n",
    "\n",
    "#ToPIL(testimage).show()\n",
    "\n",
    "#print(f'response: {output}')\n",
    "#print(f'ground truth: {testresponse}')"
   ]
  },
  {
   "cell_type": "markdown",
   "metadata": {},
   "source": [
    "### Training (Stage 1)"
   ]
  },
  {
   "cell_type": "markdown",
   "metadata": {},
   "source": [
    "Set which parameters to be optimized"
   ]
  },
  {
   "cell_type": "code",
   "execution_count": null,
   "metadata": {},
   "outputs": [
    {
     "data": {
      "application/vnd.jupyter.widget-view+json": {
       "model_id": "d021e78c062447859f163f8ee718822f",
       "version_major": 2,
       "version_minor": 0
      },
      "text/plain": [
       "  0%|          | 0/5 [00:00<?, ?it/s]"
      ]
     },
     "metadata": {},
     "output_type": "display_data"
    },
    {
     "name": "stderr",
     "output_type": "stream",
     "text": [
      "c:\\Users\\colli\\OneDrive\\Documents\\Classes\\UofM\\ECE 598 (LLMs)\\Final Project\\llava_finalproject\\llava_finalproject\\vicuna_llava.py:105: FutureWarning: `torch.cuda.amp.autocast(args...)` is deprecated. Please use `torch.amp.autocast('cuda', args...)` instead.\n",
      "  with autocast():\n"
     ]
    },
    {
     "name": "stdout",
     "output_type": "stream",
     "text": [
      "batchiter:1, loss:1.4420560598373413\n",
      "batchiter:2, loss:1.4395617246627808\n",
      "batchiter:3, loss:1.434531569480896\n",
      "batchiter:4, loss:1.4348585605621338\n",
      "batchiter:5, loss:1.4387779235839844\n"
     ]
    },
    {
     "data": {
      "application/vnd.jupyter.widget-view+json": {
       "model_id": "ea82188793d14656bbede321756fe0f7",
       "version_major": 2,
       "version_minor": 0
      },
      "text/plain": [
       "model-00001-of-00002.safetensors:   0%|          | 0.00/5.00G [00:00<?, ?B/s]"
      ]
     },
     "metadata": {},
     "output_type": "display_data"
    },
    {
     "data": {
      "application/vnd.jupyter.widget-view+json": {
       "model_id": "1de45f81db924889adf1a6be12e8c3a6",
       "version_major": 2,
       "version_minor": 0
      },
      "text/plain": [
       "Upload 2 LFS files:   0%|          | 0/2 [00:00<?, ?it/s]"
      ]
     },
     "metadata": {},
     "output_type": "display_data"
    },
    {
     "data": {
      "application/vnd.jupyter.widget-view+json": {
       "model_id": "aee601ac5f774917ba2ea47fa5f31921",
       "version_major": 2,
       "version_minor": 0
      },
      "text/plain": [
       "model-00002-of-00002.safetensors:   0%|          | 0.00/2.22G [00:00<?, ?B/s]"
      ]
     },
     "metadata": {},
     "output_type": "display_data"
    }
   ],
   "source": [
    "from torch.optim import Adam\n",
    "from transformers import get_scheduler\n",
    "from tqdm.auto import tqdm\n",
    "\n",
    "\n",
    "\n",
    "optimizer =  accelerator.prepare(Adam([{\"params\":vicunallava.parameters(),\n",
    "                                        \"params\":vicunallava.im_embedding.parameters()}], lr=2e-3))\n",
    "\n",
    "\n",
    "num_epochs = 1\n",
    "gradient_accumulation_steps = 8\n",
    "num_dataset_samples = len(cc3m_dataset)\n",
    "num_batch_steps = num_epochs*num_dataset_samples/batch_size\n",
    "num_optim_steps = num_batch_steps/gradient_accumulation_steps\n",
    "num_warmup_steps = np.ceil(0.03*num_optim_steps)\n",
    "lr_scheduler = accelerator.prepare(get_scheduler(\"cosine\",\n",
    "                             optimizer=optimizer,\n",
    "                             num_warmup_steps=num_warmup_steps,\n",
    "                             num_training_steps=num_batch_steps))\n",
    "\n",
    "\n",
    "vicunallava.staged_training(cc3m_dataloader,1,num_epochs,batch_size,8,optimizer,lr_scheduler,save_results=False,push_to_hub=False,hf_user=\"cjschul\")\n",
    "\n"
   ]
  }
 ],
 "metadata": {
  "kernelspec": {
   "display_name": "Python 3",
   "language": "python",
   "name": "python3"
  },
  "language_info": {
   "codemirror_mode": {
    "name": "ipython",
    "version": 3
   },
   "file_extension": ".py",
   "mimetype": "text/x-python",
   "name": "python",
   "nbconvert_exporter": "python",
   "pygments_lexer": "ipython3",
   "version": "3.11.9"
  }
 },
 "nbformat": 4,
 "nbformat_minor": 2
}
